{
  "cells": [
    {
      "cell_type": "code",
      "execution_count": null,
      "metadata": {
        "colab": {
          "base_uri": "https://localhost:8080/"
        },
        "id": "R-824CWHTQrM",
        "outputId": "d7750625-8afa-4ae9-cb7b-510619f26bb3"
      },
      "outputs": [
        {
          "name": "stdout",
          "output_type": "stream",
          "text": [
            "Iteration  1: w1=  2.000, w2=  0.500, y_hat=2.00000, Loss=162.00000\n",
            "Iteration  2: w1=  2.180, w2=  1.220, y_hat=5.31920, Loss=107.76294\n",
            "Iteration  3: w1=  2.538, w2=  1.860, y_hat=9.44257, Loss=55.72969\n",
            "Iteration  4: w1=  2.931, w2=  2.396, y_hat=14.04532, Loss=17.72910\n",
            "Iteration  5: w1=  3.216, w2=  2.745, y_hat=17.65811, Loss= 2.74224\n",
            "Iteration  6: w1=  3.345, w2=  2.896, y_hat=19.37178, Loss= 0.19733\n",
            "Iteration  7: w1=  3.381, w2=  2.938, y_hat=19.86670, Loss= 0.00888\n",
            "Iteration  8: w1=  3.389, w2=  2.947, y_hat=19.97382, Loss= 0.00034\n",
            "Iteration  9: w1=  3.391, w2=  2.949, y_hat=19.99495, Loss= 0.00001\n",
            "Iteration 10: w1=  3.391, w2=  2.949, y_hat=19.99903, Loss= 0.00000\n",
            "Training Complete\n",
            "w1 final:  3.3910037937972333\n",
            "w2 final:  2.9489517545753627\n",
            "Is the prediction right?:  False The difference is:  -0.0009719616262415798\n"
          ]
        }
      ],
      "source": [
        "#---------Forward Pass-----------\n",
        "def forward_pass(x, w1, w2):\n",
        "  h = x * w1\n",
        "  y_hat = h * w2\n",
        "  return h, y_hat\n",
        "\n",
        "#------------Loss Function------------\n",
        "def mse_loss(y, yhat):\n",
        "  return 0.5 * (y-yhat)**2\n",
        "\n",
        "#---------Gradients (Backprop)---------\n",
        "def comput_gradients(x, w1, w2, y):\n",
        "  h, y_hat = forward_pass(x, w1, w2)\n",
        "  dL_dy_hat = (y_hat-y)\n",
        "  dL_dw2 = dL_dy_hat * h\n",
        "  dL_dw1 = dL_dy_hat * (x * w2)\n",
        "  return dL_dw1, dL_dw2\n",
        "\n",
        "#--------Training Loop-------\n",
        "def train_network(x, y, w1_init, w2_init, alpha=0.01, epochs=10):\n",
        "  w1, w2 = w1_init, w2_init\n",
        "\n",
        "  for i in range(epochs):\n",
        "    h, y_hat = forward_pass(x, w1, w2)\n",
        "\n",
        "    loss_val = mse_loss(y, y_hat)\n",
        "\n",
        "    dL_dw1, dL_dw2 = comput_gradients(x, w1, w2, y)\n",
        "\n",
        "    print(f\"Iteration {i+1:2d}: \"\n",
        "          f\"w1={w1:7.3f}, w2={w2:7.3f}, \"\n",
        "          f\"y_hat={y_hat:7.5f}, Loss={loss_val:8.5f}\"\n",
        "    )\n",
        "\n",
        "    w1 -= alpha * dL_dw1\n",
        "    w2 -= alpha * dL_dw2\n",
        "  return w1, w2, y, y_hat\n",
        "\n",
        "#----- Printing Function------\n",
        "def printing(x, y, w1_init, w2_init, alpha, epochs):\n",
        "  w1_final, w2_final, y, y_hat = train_network(x, y, w1_init, w2_init, alpha, epochs)\n",
        "\n",
        "  print(\"Training Complete\")\n",
        "  print(\"w1 final: \", w1_final)\n",
        "  print(\"w2 final: \", w2_final)\n",
        "  print(\"Is the prediction right?: \", y_hat == y, \"The difference is: \", (y_hat-y))\n",
        "\n",
        "#----- Run------\n",
        "if __name__ == \"__main__\":\n",
        "  x = 2.0\n",
        "  y = 20.0\n",
        "\n",
        "  w1_init = 2.0\n",
        "  w2_init = 0.5\n",
        "\n",
        "  alpha= 0.01\n",
        "\n",
        "  printing(x, y, w1_init, w2_init, alpha=alpha, epochs=10)\n"
      ]
    },
    {
      "cell_type": "code",
      "execution_count": null,
      "metadata": {
        "colab": {
          "base_uri": "https://localhost:8080/"
        },
        "id": "mV33ZOyfYamO",
        "outputId": "09996587-4d00-4e85-acb2-6ef6e3762cc9"
      },
      "outputs": [
        {
          "name": "stdout",
          "output_type": "stream",
          "text": [
            "Iteration  1: w1=  2.000, w2=  0.500, y_hat=2.00000, Loss=162.00000\n",
            "Iteration  2: w1=  2.180, w2=  1.220, y_hat=5.31920, Loss=107.76294\n",
            "Iteration  3: w1=  2.538, w2=  1.860, y_hat=9.44257, Loss=55.72969\n",
            "Iteration  4: w1=  2.931, w2=  2.396, y_hat=14.04532, Loss=17.72910\n",
            "Iteration  5: w1=  3.216, w2=  2.745, y_hat=17.65811, Loss= 2.74224\n",
            "Iteration  6: w1=  3.345, w2=  2.896, y_hat=19.37178, Loss= 0.19733\n",
            "Iteration  7: w1=  3.381, w2=  2.938, y_hat=19.86670, Loss= 0.00888\n",
            "Iteration  8: w1=  3.389, w2=  2.947, y_hat=19.97382, Loss= 0.00034\n",
            "Iteration  9: w1=  3.391, w2=  2.949, y_hat=19.99495, Loss= 0.00001\n",
            "Iteration 10: w1=  3.391, w2=  2.949, y_hat=19.99903, Loss= 0.00000\n",
            "Iteration 11: w1=  3.391, w2=  2.949, y_hat=19.99981, Loss= 0.00000\n",
            "Iteration 12: w1=  3.391, w2=  2.949, y_hat=19.99996, Loss= 0.00000\n",
            "Iteration 13: w1=  3.391, w2=  2.949, y_hat=19.99999, Loss= 0.00000\n",
            "Iteration 14: w1=  3.391, w2=  2.949, y_hat=20.00000, Loss= 0.00000\n",
            "Iteration 15: w1=  3.391, w2=  2.949, y_hat=20.00000, Loss= 0.00000\n",
            "Training Complete\n",
            "w1 final:  3.3910174304954963\n",
            "w2 final:  2.948967435430711\n",
            "Is the prediction right?:  False The difference is:  -2.5486927768270107e-07\n"
          ]
        }
      ],
      "source": [
        "printing(x, y, w1_init, w2_init, alpha=alpha, epochs=15)"
      ]
    },
    {
      "cell_type": "code",
      "execution_count": null,
      "metadata": {
        "colab": {
          "base_uri": "https://localhost:8080/"
        },
        "id": "88YKV4GUYmSQ",
        "outputId": "4a0328ee-4939-4df1-d7af-250f5bd0ef99"
      },
      "outputs": [
        {
          "name": "stdout",
          "output_type": "stream",
          "text": [
            "Iteration  1: w1=  2.000, w2=  0.500, y_hat=2.00000, Loss=162.00000\n",
            "Iteration  2: w1=  2.180, w2=  1.220, y_hat=5.31920, Loss=107.76294\n",
            "Iteration  3: w1=  2.538, w2=  1.860, y_hat=9.44257, Loss=55.72969\n",
            "Iteration  4: w1=  2.931, w2=  2.396, y_hat=14.04532, Loss=17.72910\n",
            "Iteration  5: w1=  3.216, w2=  2.745, y_hat=17.65811, Loss= 2.74224\n",
            "Iteration  6: w1=  3.345, w2=  2.896, y_hat=19.37178, Loss= 0.19733\n",
            "Iteration  7: w1=  3.381, w2=  2.938, y_hat=19.86670, Loss= 0.00888\n",
            "Iteration  8: w1=  3.389, w2=  2.947, y_hat=19.97382, Loss= 0.00034\n",
            "Iteration  9: w1=  3.391, w2=  2.949, y_hat=19.99495, Loss= 0.00001\n",
            "Iteration 10: w1=  3.391, w2=  2.949, y_hat=19.99903, Loss= 0.00000\n",
            "Iteration 11: w1=  3.391, w2=  2.949, y_hat=19.99981, Loss= 0.00000\n",
            "Iteration 12: w1=  3.391, w2=  2.949, y_hat=19.99996, Loss= 0.00000\n",
            "Iteration 13: w1=  3.391, w2=  2.949, y_hat=19.99999, Loss= 0.00000\n",
            "Iteration 14: w1=  3.391, w2=  2.949, y_hat=20.00000, Loss= 0.00000\n",
            "Iteration 15: w1=  3.391, w2=  2.949, y_hat=20.00000, Loss= 0.00000\n",
            "Iteration 16: w1=  3.391, w2=  2.949, y_hat=20.00000, Loss= 0.00000\n",
            "Iteration 17: w1=  3.391, w2=  2.949, y_hat=20.00000, Loss= 0.00000\n",
            "Iteration 18: w1=  3.391, w2=  2.949, y_hat=20.00000, Loss= 0.00000\n",
            "Iteration 19: w1=  3.391, w2=  2.949, y_hat=20.00000, Loss= 0.00000\n",
            "Iteration 20: w1=  3.391, w2=  2.949, y_hat=20.00000, Loss= 0.00000\n",
            "Iteration 21: w1=  3.391, w2=  2.949, y_hat=20.00000, Loss= 0.00000\n",
            "Iteration 22: w1=  3.391, w2=  2.949, y_hat=20.00000, Loss= 0.00000\n",
            "Iteration 23: w1=  3.391, w2=  2.949, y_hat=20.00000, Loss= 0.00000\n",
            "Iteration 24: w1=  3.391, w2=  2.949, y_hat=20.00000, Loss= 0.00000\n",
            "Iteration 25: w1=  3.391, w2=  2.949, y_hat=20.00000, Loss= 0.00000\n",
            "Iteration 26: w1=  3.391, w2=  2.949, y_hat=20.00000, Loss= 0.00000\n",
            "Iteration 27: w1=  3.391, w2=  2.949, y_hat=20.00000, Loss= 0.00000\n",
            "Training Complete\n",
            "w1 final:  3.3910174340716916\n",
            "w2 final:  2.948967439542979\n",
            "Is the prediction right?:  True The difference is:  0.0\n"
          ]
        }
      ],
      "source": [
        "printing(x, y, w1_init, w2_init, alpha=alpha, epochs=27)"
      ]
    },
    {
      "cell_type": "code",
      "execution_count": null,
      "metadata": {
        "colab": {
          "base_uri": "https://localhost:8080/"
        },
        "id": "xrydgIGKcaAg",
        "outputId": "41b9131b-7bbd-4060-d982-14381d8e1406"
      },
      "outputs": [
        {
          "data": {
            "text/plain": [
              "20.0"
            ]
          },
          "execution_count": 39,
          "metadata": {},
          "output_type": "execute_result"
        }
      ],
      "source": [
        "# Verifying the true label considering w1_final, w2_final, and y_hat\n",
        "2 * 3.3910174340716916 * 2.948967439542979"
      ]
    }
  ],
  "metadata": {
    "colab": {
      "provenance": []
    },
    "kernelspec": {
      "display_name": "Python 3",
      "name": "python3"
    },
    "language_info": {
      "name": "python"
    }
  },
  "nbformat": 4,
  "nbformat_minor": 0
}
